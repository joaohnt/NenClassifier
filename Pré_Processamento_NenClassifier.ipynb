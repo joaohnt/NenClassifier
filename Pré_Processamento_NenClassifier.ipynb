{
  "nbformat": 4,
  "nbformat_minor": 0,
  "metadata": {
    "colab": {
      "provenance": [],
      "authorship_tag": "ABX9TyM2GAU4mGpRO6oY5NLvDE7v",
      "include_colab_link": true
    },
    "kernelspec": {
      "name": "python3",
      "display_name": "Python 3"
    },
    "language_info": {
      "name": "python"
    }
  },
  "cells": [
    {
      "cell_type": "markdown",
      "metadata": {
        "id": "view-in-github",
        "colab_type": "text"
      },
      "source": [
        "<a href=\"https://colab.research.google.com/github/joaohnt/NenClassifier/blob/main/Pr%C3%A9_Processamento_NenClassifier.ipynb\" target=\"_parent\"><img src=\"https://colab.research.google.com/assets/colab-badge.svg\" alt=\"Open In Colab\"/></a>"
      ]
    },
    {
      "cell_type": "code",
      "execution_count": 25,
      "metadata": {
        "id": "HpfBPlD5CpbW"
      },
      "outputs": [],
      "source": [
        "import pandas as pd\n",
        "from sklearn.preprocessing import LabelEncoder\n",
        "import pickle\n",
        "from sklearn.model_selection import train_test_split"
      ]
    },
    {
      "cell_type": "markdown",
      "source": [
        "# Pré processamento dos dados"
      ],
      "metadata": {
        "id": "p3g0B4yrEZ_k"
      }
    },
    {
      "cell_type": "code",
      "source": [
        "base_nen = pd.read_csv('/content/nen_data.csv') # visualização da tabela\n",
        "base_nen[1:10]"
      ],
      "metadata": {
        "colab": {
          "base_uri": "https://localhost:8080/",
          "height": 332
        },
        "id": "RJh0dZYdEf29",
        "outputId": "5fb36c4f-2417-4d70-db99-4a2c3c71f1b1"
      },
      "execution_count": 16,
      "outputs": [
        {
          "output_type": "execute_result",
          "data": {
            "text/plain": [
              "  Personalidade     Hobbies       Reação     Tipo de Nen\n",
              "1  Introvertido  Tecnologia    Analítico   Transformação\n",
              "2  Imprevisível     Combate    Explosivo  Especialização\n",
              "3         Calmo     Leitura  Estratégico     Manipulação\n",
              "4  Extrovertido    Esportes    Impulsivo         Reforço\n",
              "5  Extrovertido     Leitura  Estratégico     Manipulação\n",
              "6  Introvertido     Leitura    Analítico  Especialização\n",
              "7     Impulsivo    Aventura    Explosivo         Reforço\n",
              "8         Calmo  Tecnologia  Estratégico     Manipulação\n",
              "9  Extrovertido     Combate    Impulsivo         Reforço"
            ],
            "text/html": [
              "\n",
              "  <div id=\"df-365cb631-670a-43ac-aabd-654fdbe5b678\" class=\"colab-df-container\">\n",
              "    <div>\n",
              "<style scoped>\n",
              "    .dataframe tbody tr th:only-of-type {\n",
              "        vertical-align: middle;\n",
              "    }\n",
              "\n",
              "    .dataframe tbody tr th {\n",
              "        vertical-align: top;\n",
              "    }\n",
              "\n",
              "    .dataframe thead th {\n",
              "        text-align: right;\n",
              "    }\n",
              "</style>\n",
              "<table border=\"1\" class=\"dataframe\">\n",
              "  <thead>\n",
              "    <tr style=\"text-align: right;\">\n",
              "      <th></th>\n",
              "      <th>Personalidade</th>\n",
              "      <th>Hobbies</th>\n",
              "      <th>Reação</th>\n",
              "      <th>Tipo de Nen</th>\n",
              "    </tr>\n",
              "  </thead>\n",
              "  <tbody>\n",
              "    <tr>\n",
              "      <th>1</th>\n",
              "      <td>Introvertido</td>\n",
              "      <td>Tecnologia</td>\n",
              "      <td>Analítico</td>\n",
              "      <td>Transformação</td>\n",
              "    </tr>\n",
              "    <tr>\n",
              "      <th>2</th>\n",
              "      <td>Imprevisível</td>\n",
              "      <td>Combate</td>\n",
              "      <td>Explosivo</td>\n",
              "      <td>Especialização</td>\n",
              "    </tr>\n",
              "    <tr>\n",
              "      <th>3</th>\n",
              "      <td>Calmo</td>\n",
              "      <td>Leitura</td>\n",
              "      <td>Estratégico</td>\n",
              "      <td>Manipulação</td>\n",
              "    </tr>\n",
              "    <tr>\n",
              "      <th>4</th>\n",
              "      <td>Extrovertido</td>\n",
              "      <td>Esportes</td>\n",
              "      <td>Impulsivo</td>\n",
              "      <td>Reforço</td>\n",
              "    </tr>\n",
              "    <tr>\n",
              "      <th>5</th>\n",
              "      <td>Extrovertido</td>\n",
              "      <td>Leitura</td>\n",
              "      <td>Estratégico</td>\n",
              "      <td>Manipulação</td>\n",
              "    </tr>\n",
              "    <tr>\n",
              "      <th>6</th>\n",
              "      <td>Introvertido</td>\n",
              "      <td>Leitura</td>\n",
              "      <td>Analítico</td>\n",
              "      <td>Especialização</td>\n",
              "    </tr>\n",
              "    <tr>\n",
              "      <th>7</th>\n",
              "      <td>Impulsivo</td>\n",
              "      <td>Aventura</td>\n",
              "      <td>Explosivo</td>\n",
              "      <td>Reforço</td>\n",
              "    </tr>\n",
              "    <tr>\n",
              "      <th>8</th>\n",
              "      <td>Calmo</td>\n",
              "      <td>Tecnologia</td>\n",
              "      <td>Estratégico</td>\n",
              "      <td>Manipulação</td>\n",
              "    </tr>\n",
              "    <tr>\n",
              "      <th>9</th>\n",
              "      <td>Extrovertido</td>\n",
              "      <td>Combate</td>\n",
              "      <td>Impulsivo</td>\n",
              "      <td>Reforço</td>\n",
              "    </tr>\n",
              "  </tbody>\n",
              "</table>\n",
              "</div>\n",
              "    <div class=\"colab-df-buttons\">\n",
              "\n",
              "  <div class=\"colab-df-container\">\n",
              "    <button class=\"colab-df-convert\" onclick=\"convertToInteractive('df-365cb631-670a-43ac-aabd-654fdbe5b678')\"\n",
              "            title=\"Convert this dataframe to an interactive table.\"\n",
              "            style=\"display:none;\">\n",
              "\n",
              "  <svg xmlns=\"http://www.w3.org/2000/svg\" height=\"24px\" viewBox=\"0 -960 960 960\">\n",
              "    <path d=\"M120-120v-720h720v720H120Zm60-500h600v-160H180v160Zm220 220h160v-160H400v160Zm0 220h160v-160H400v160ZM180-400h160v-160H180v160Zm440 0h160v-160H620v160ZM180-180h160v-160H180v160Zm440 0h160v-160H620v160Z\"/>\n",
              "  </svg>\n",
              "    </button>\n",
              "\n",
              "  <style>\n",
              "    .colab-df-container {\n",
              "      display:flex;\n",
              "      gap: 12px;\n",
              "    }\n",
              "\n",
              "    .colab-df-convert {\n",
              "      background-color: #E8F0FE;\n",
              "      border: none;\n",
              "      border-radius: 50%;\n",
              "      cursor: pointer;\n",
              "      display: none;\n",
              "      fill: #1967D2;\n",
              "      height: 32px;\n",
              "      padding: 0 0 0 0;\n",
              "      width: 32px;\n",
              "    }\n",
              "\n",
              "    .colab-df-convert:hover {\n",
              "      background-color: #E2EBFA;\n",
              "      box-shadow: 0px 1px 2px rgba(60, 64, 67, 0.3), 0px 1px 3px 1px rgba(60, 64, 67, 0.15);\n",
              "      fill: #174EA6;\n",
              "    }\n",
              "\n",
              "    .colab-df-buttons div {\n",
              "      margin-bottom: 4px;\n",
              "    }\n",
              "\n",
              "    [theme=dark] .colab-df-convert {\n",
              "      background-color: #3B4455;\n",
              "      fill: #D2E3FC;\n",
              "    }\n",
              "\n",
              "    [theme=dark] .colab-df-convert:hover {\n",
              "      background-color: #434B5C;\n",
              "      box-shadow: 0px 1px 3px 1px rgba(0, 0, 0, 0.15);\n",
              "      filter: drop-shadow(0px 1px 2px rgba(0, 0, 0, 0.3));\n",
              "      fill: #FFFFFF;\n",
              "    }\n",
              "  </style>\n",
              "\n",
              "    <script>\n",
              "      const buttonEl =\n",
              "        document.querySelector('#df-365cb631-670a-43ac-aabd-654fdbe5b678 button.colab-df-convert');\n",
              "      buttonEl.style.display =\n",
              "        google.colab.kernel.accessAllowed ? 'block' : 'none';\n",
              "\n",
              "      async function convertToInteractive(key) {\n",
              "        const element = document.querySelector('#df-365cb631-670a-43ac-aabd-654fdbe5b678');\n",
              "        const dataTable =\n",
              "          await google.colab.kernel.invokeFunction('convertToInteractive',\n",
              "                                                    [key], {});\n",
              "        if (!dataTable) return;\n",
              "\n",
              "        const docLinkHtml = 'Like what you see? Visit the ' +\n",
              "          '<a target=\"_blank\" href=https://colab.research.google.com/notebooks/data_table.ipynb>data table notebook</a>'\n",
              "          + ' to learn more about interactive tables.';\n",
              "        element.innerHTML = '';\n",
              "        dataTable['output_type'] = 'display_data';\n",
              "        await google.colab.output.renderOutput(dataTable, element);\n",
              "        const docLink = document.createElement('div');\n",
              "        docLink.innerHTML = docLinkHtml;\n",
              "        element.appendChild(docLink);\n",
              "      }\n",
              "    </script>\n",
              "  </div>\n",
              "\n",
              "\n",
              "<div id=\"df-9c0b6710-00c6-4294-9086-a714f1e409f9\">\n",
              "  <button class=\"colab-df-quickchart\" onclick=\"quickchart('df-9c0b6710-00c6-4294-9086-a714f1e409f9')\"\n",
              "            title=\"Suggest charts\"\n",
              "            style=\"display:none;\">\n",
              "\n",
              "<svg xmlns=\"http://www.w3.org/2000/svg\" height=\"24px\"viewBox=\"0 0 24 24\"\n",
              "     width=\"24px\">\n",
              "    <g>\n",
              "        <path d=\"M19 3H5c-1.1 0-2 .9-2 2v14c0 1.1.9 2 2 2h14c1.1 0 2-.9 2-2V5c0-1.1-.9-2-2-2zM9 17H7v-7h2v7zm4 0h-2V7h2v10zm4 0h-2v-4h2v4z\"/>\n",
              "    </g>\n",
              "</svg>\n",
              "  </button>\n",
              "\n",
              "<style>\n",
              "  .colab-df-quickchart {\n",
              "      --bg-color: #E8F0FE;\n",
              "      --fill-color: #1967D2;\n",
              "      --hover-bg-color: #E2EBFA;\n",
              "      --hover-fill-color: #174EA6;\n",
              "      --disabled-fill-color: #AAA;\n",
              "      --disabled-bg-color: #DDD;\n",
              "  }\n",
              "\n",
              "  [theme=dark] .colab-df-quickchart {\n",
              "      --bg-color: #3B4455;\n",
              "      --fill-color: #D2E3FC;\n",
              "      --hover-bg-color: #434B5C;\n",
              "      --hover-fill-color: #FFFFFF;\n",
              "      --disabled-bg-color: #3B4455;\n",
              "      --disabled-fill-color: #666;\n",
              "  }\n",
              "\n",
              "  .colab-df-quickchart {\n",
              "    background-color: var(--bg-color);\n",
              "    border: none;\n",
              "    border-radius: 50%;\n",
              "    cursor: pointer;\n",
              "    display: none;\n",
              "    fill: var(--fill-color);\n",
              "    height: 32px;\n",
              "    padding: 0;\n",
              "    width: 32px;\n",
              "  }\n",
              "\n",
              "  .colab-df-quickchart:hover {\n",
              "    background-color: var(--hover-bg-color);\n",
              "    box-shadow: 0 1px 2px rgba(60, 64, 67, 0.3), 0 1px 3px 1px rgba(60, 64, 67, 0.15);\n",
              "    fill: var(--button-hover-fill-color);\n",
              "  }\n",
              "\n",
              "  .colab-df-quickchart-complete:disabled,\n",
              "  .colab-df-quickchart-complete:disabled:hover {\n",
              "    background-color: var(--disabled-bg-color);\n",
              "    fill: var(--disabled-fill-color);\n",
              "    box-shadow: none;\n",
              "  }\n",
              "\n",
              "  .colab-df-spinner {\n",
              "    border: 2px solid var(--fill-color);\n",
              "    border-color: transparent;\n",
              "    border-bottom-color: var(--fill-color);\n",
              "    animation:\n",
              "      spin 1s steps(1) infinite;\n",
              "  }\n",
              "\n",
              "  @keyframes spin {\n",
              "    0% {\n",
              "      border-color: transparent;\n",
              "      border-bottom-color: var(--fill-color);\n",
              "      border-left-color: var(--fill-color);\n",
              "    }\n",
              "    20% {\n",
              "      border-color: transparent;\n",
              "      border-left-color: var(--fill-color);\n",
              "      border-top-color: var(--fill-color);\n",
              "    }\n",
              "    30% {\n",
              "      border-color: transparent;\n",
              "      border-left-color: var(--fill-color);\n",
              "      border-top-color: var(--fill-color);\n",
              "      border-right-color: var(--fill-color);\n",
              "    }\n",
              "    40% {\n",
              "      border-color: transparent;\n",
              "      border-right-color: var(--fill-color);\n",
              "      border-top-color: var(--fill-color);\n",
              "    }\n",
              "    60% {\n",
              "      border-color: transparent;\n",
              "      border-right-color: var(--fill-color);\n",
              "    }\n",
              "    80% {\n",
              "      border-color: transparent;\n",
              "      border-right-color: var(--fill-color);\n",
              "      border-bottom-color: var(--fill-color);\n",
              "    }\n",
              "    90% {\n",
              "      border-color: transparent;\n",
              "      border-bottom-color: var(--fill-color);\n",
              "    }\n",
              "  }\n",
              "</style>\n",
              "\n",
              "  <script>\n",
              "    async function quickchart(key) {\n",
              "      const quickchartButtonEl =\n",
              "        document.querySelector('#' + key + ' button');\n",
              "      quickchartButtonEl.disabled = true;  // To prevent multiple clicks.\n",
              "      quickchartButtonEl.classList.add('colab-df-spinner');\n",
              "      try {\n",
              "        const charts = await google.colab.kernel.invokeFunction(\n",
              "            'suggestCharts', [key], {});\n",
              "      } catch (error) {\n",
              "        console.error('Error during call to suggestCharts:', error);\n",
              "      }\n",
              "      quickchartButtonEl.classList.remove('colab-df-spinner');\n",
              "      quickchartButtonEl.classList.add('colab-df-quickchart-complete');\n",
              "    }\n",
              "    (() => {\n",
              "      let quickchartButtonEl =\n",
              "        document.querySelector('#df-9c0b6710-00c6-4294-9086-a714f1e409f9 button');\n",
              "      quickchartButtonEl.style.display =\n",
              "        google.colab.kernel.accessAllowed ? 'block' : 'none';\n",
              "    })();\n",
              "  </script>\n",
              "</div>\n",
              "\n",
              "    </div>\n",
              "  </div>\n"
            ],
            "application/vnd.google.colaboratory.intrinsic+json": {
              "type": "dataframe",
              "summary": "{\n  \"name\": \"base_nen[1:10]\",\n  \"rows\": 9,\n  \"fields\": [\n    {\n      \"column\": \"Personalidade\",\n      \"properties\": {\n        \"dtype\": \"string\",\n        \"num_unique_values\": 5,\n        \"samples\": [\n          \"Imprevis\\u00edvel\",\n          \"Impulsivo\",\n          \"Calmo\"\n        ],\n        \"semantic_type\": \"\",\n        \"description\": \"\"\n      }\n    },\n    {\n      \"column\": \"Hobbies\",\n      \"properties\": {\n        \"dtype\": \"string\",\n        \"num_unique_values\": 5,\n        \"samples\": [\n          \"Combate\",\n          \"Aventura\",\n          \"Leitura\"\n        ],\n        \"semantic_type\": \"\",\n        \"description\": \"\"\n      }\n    },\n    {\n      \"column\": \"Rea\\u00e7\\u00e3o\",\n      \"properties\": {\n        \"dtype\": \"category\",\n        \"num_unique_values\": 4,\n        \"samples\": [\n          \"Explosivo\",\n          \"Impulsivo\",\n          \"Anal\\u00edtico\"\n        ],\n        \"semantic_type\": \"\",\n        \"description\": \"\"\n      }\n    },\n    {\n      \"column\": \"Tipo de Nen\",\n      \"properties\": {\n        \"dtype\": \"category\",\n        \"num_unique_values\": 4,\n        \"samples\": [\n          \"Especializa\\u00e7\\u00e3o\",\n          \"Refor\\u00e7o\",\n          \"Transforma\\u00e7\\u00e3o\"\n        ],\n        \"semantic_type\": \"\",\n        \"description\": \"\"\n      }\n    }\n  ]\n}"
            }
          },
          "metadata": {},
          "execution_count": 16
        }
      ]
    },
    {
      "cell_type": "code",
      "source": [
        "X_nen = base_nen.iloc[:, 0:3].values     # separar previsores e classes\n",
        "X_nen # previsores"
      ],
      "metadata": {
        "colab": {
          "base_uri": "https://localhost:8080/"
        },
        "id": "kj27gw4fEtCi",
        "outputId": "a9d3ca76-471c-4a85-85c8-fc43faea1da0"
      },
      "execution_count": 17,
      "outputs": [
        {
          "output_type": "execute_result",
          "data": {
            "text/plain": [
              "array([['Extrovertido', 'Aventura', 'Impulsivo'],\n",
              "       ['Introvertido', 'Tecnologia', 'Analítico'],\n",
              "       ['Imprevisível', 'Combate', 'Explosivo'],\n",
              "       ['Calmo', 'Leitura', 'Estratégico'],\n",
              "       ['Extrovertido', 'Esportes', 'Impulsivo'],\n",
              "       ['Extrovertido', 'Leitura', 'Estratégico'],\n",
              "       ['Introvertido', 'Leitura', 'Analítico'],\n",
              "       ['Impulsivo', 'Aventura', 'Explosivo'],\n",
              "       ['Calmo', 'Tecnologia', 'Estratégico'],\n",
              "       ['Extrovertido', 'Combate', 'Impulsivo'],\n",
              "       ['Introvertido', 'Leitura', 'Analítico'],\n",
              "       ['Calmo', 'Leitura', 'Estratégico'],\n",
              "       ['Calmo', 'Combate', 'Estratégico'],\n",
              "       ['Imprevisível', 'Combate', 'Explosivo'],\n",
              "       ['Introvertido', 'Leitura', 'Estratégico'],\n",
              "       ['Introvertido', 'Tecnologia', 'Analítico'],\n",
              "       ['Calmo', 'Leitura', 'Estratégico'],\n",
              "       ['Extrovertido', 'Esportes', 'Impulsivo'],\n",
              "       ['Calmo', 'Combate', 'Estratégico'],\n",
              "       ['Imprevisível', 'Leitura', 'Explosivo'],\n",
              "       ['Extrovertido', 'Esportes', 'Impulsivo'],\n",
              "       ['Imprevisível', 'Leitura', 'Estratégico'],\n",
              "       ['Calmo', 'Tecnologia', 'Analítico'],\n",
              "       ['Introvertido', 'Combate', 'Explosivo'],\n",
              "       ['Extrovertido', 'Leitura', 'Calmo'],\n",
              "       ['Calmo', 'Tecnologia', 'Estratégico'],\n",
              "       ['Imprevisível', 'Aventura', 'Explosivo'],\n",
              "       ['Extrovertido', 'Combate', 'Calmo'],\n",
              "       ['Introvertido', 'Leitura', 'Estratégico'],\n",
              "       ['Calmo', 'Aventura', 'Impulsivo']], dtype=object)"
            ]
          },
          "metadata": {},
          "execution_count": 17
        }
      ]
    },
    {
      "cell_type": "code",
      "source": [
        "y_nen = base_nen.iloc[:,3].values\n",
        "y_nen # classes"
      ],
      "metadata": {
        "colab": {
          "base_uri": "https://localhost:8080/"
        },
        "id": "ZAX6ZZrhFA6L",
        "outputId": "baff332c-bfd3-408a-e0f0-7a0dc8af4656"
      },
      "execution_count": 18,
      "outputs": [
        {
          "output_type": "execute_result",
          "data": {
            "text/plain": [
              "array(['Reforço', 'Transformação', 'Especialização', 'Manipulação',\n",
              "       'Reforço', 'Manipulação', 'Especialização', 'Reforço',\n",
              "       'Manipulação', 'Reforço', 'Manipulação', 'Materialização',\n",
              "       'Emissão', 'Transformação', 'Especialização', 'Manipulação',\n",
              "       'Materialização', 'Reforço', 'Emissão', 'Especialização',\n",
              "       'Reforço', 'Transformação', 'Manipulação', 'Especialização',\n",
              "       'Materialização', 'Transformação', 'Especialização', 'Manipulação',\n",
              "       'Reforço', 'Emissão'], dtype=object)"
            ]
          },
          "metadata": {},
          "execution_count": 18
        }
      ]
    },
    {
      "cell_type": "markdown",
      "source": [
        "# Tratamento dos atributos categóricos"
      ],
      "metadata": {
        "id": "I4wlIUkbHEcY"
      }
    },
    {
      "cell_type": "code",
      "source": [
        "label_encoder_personalidade = LabelEncoder()\n",
        "label_encoder_hobbies = LabelEncoder()\n",
        "label_encoder_reacao = LabelEncoder()"
      ],
      "metadata": {
        "id": "oEOreAtCHKsZ"
      },
      "execution_count": 19,
      "outputs": []
    },
    {
      "cell_type": "code",
      "source": [
        "X_nen[:,0] = label_encoder_personalidade.fit_transform(X_nen[:,0])\n",
        "X_nen[:,1] = label_encoder_hobbies.fit_transform(X_nen[:,1])\n",
        "X_nen[:,2] = label_encoder_reacao.fit_transform(X_nen[:,2])"
      ],
      "metadata": {
        "id": "jxP2eA4fHfsA"
      },
      "execution_count": 22,
      "outputs": []
    },
    {
      "cell_type": "code",
      "source": [
        "X_nen"
      ],
      "metadata": {
        "colab": {
          "base_uri": "https://localhost:8080/"
        },
        "id": "so03M-CuHuPm",
        "outputId": "a6c929c0-6401-4f24-f8d8-63b3828d74e8"
      },
      "execution_count": 23,
      "outputs": [
        {
          "output_type": "execute_result",
          "data": {
            "text/plain": [
              "array([[1, 0, 4],\n",
              "       [4, 4, 0],\n",
              "       [2, 1, 3],\n",
              "       [0, 3, 2],\n",
              "       [1, 2, 4],\n",
              "       [1, 3, 2],\n",
              "       [4, 3, 0],\n",
              "       [3, 0, 3],\n",
              "       [0, 4, 2],\n",
              "       [1, 1, 4],\n",
              "       [4, 3, 0],\n",
              "       [0, 3, 2],\n",
              "       [0, 1, 2],\n",
              "       [2, 1, 3],\n",
              "       [4, 3, 2],\n",
              "       [4, 4, 0],\n",
              "       [0, 3, 2],\n",
              "       [1, 2, 4],\n",
              "       [0, 1, 2],\n",
              "       [2, 3, 3],\n",
              "       [1, 2, 4],\n",
              "       [2, 3, 2],\n",
              "       [0, 4, 0],\n",
              "       [4, 1, 3],\n",
              "       [1, 3, 1],\n",
              "       [0, 4, 2],\n",
              "       [2, 0, 3],\n",
              "       [1, 1, 1],\n",
              "       [4, 3, 2],\n",
              "       [0, 0, 4]], dtype=object)"
            ]
          },
          "metadata": {},
          "execution_count": 23
        }
      ]
    },
    {
      "cell_type": "markdown",
      "source": [
        "# Dividindo em treinamento e teste"
      ],
      "metadata": {
        "id": "wL3xJNxUIN-z"
      }
    },
    {
      "cell_type": "code",
      "source": [
        "X_nen_treinamento, X_nen_teste, y_nen_treinamento, y_nen_teste = train_test_split(X_nen, y_nen, test_size = 0.10, random_state = 0)"
      ],
      "metadata": {
        "id": "xMCALmhLIQVK"
      },
      "execution_count": 26,
      "outputs": []
    },
    {
      "cell_type": "code",
      "source": [
        "X_nen_treinamento.shape, X_nen_teste.shape"
      ],
      "metadata": {
        "colab": {
          "base_uri": "https://localhost:8080/"
        },
        "id": "V6hHOg-RImqr",
        "outputId": "bbc5dffb-c852-4541-a5d3-fe8611153426"
      },
      "execution_count": 27,
      "outputs": [
        {
          "output_type": "execute_result",
          "data": {
            "text/plain": [
              "((27, 3), (3, 3))"
            ]
          },
          "metadata": {},
          "execution_count": 27
        }
      ]
    },
    {
      "cell_type": "code",
      "source": [
        "X_nen_teste.shape, y_nen_teste.shape"
      ],
      "metadata": {
        "colab": {
          "base_uri": "https://localhost:8080/"
        },
        "id": "9cSm_VYHIpMr",
        "outputId": "16dcc540-4b2e-45fe-e349-9aaf0174886f"
      },
      "execution_count": 28,
      "outputs": [
        {
          "output_type": "execute_result",
          "data": {
            "text/plain": [
              "((3, 3), (3,))"
            ]
          },
          "metadata": {},
          "execution_count": 28
        }
      ]
    },
    {
      "cell_type": "markdown",
      "source": [
        "# Salvando as variáveis"
      ],
      "metadata": {
        "id": "Q8wFf0uFH5ix"
      }
    },
    {
      "cell_type": "code",
      "source": [
        "with open('nen_data.pkl', mode = 'wb') as f:\n",
        "  pickle.dump([X_nen_treinamento, y_nen_treinamento, X_nen_teste, y_nen_teste], f)"
      ],
      "metadata": {
        "id": "dSWwLOUKH6yh"
      },
      "execution_count": 30,
      "outputs": []
    }
  ]
}